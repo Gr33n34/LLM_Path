{
  "nbformat": 4,
  "nbformat_minor": 0,
  "metadata": {
    "colab": {
      "provenance": []
    },
    "kernelspec": {
      "name": "python3",
      "display_name": "Python 3"
    },
    "language_info": {
      "name": "python"
    }
  },
  "cells": [
    {
      "cell_type": "code",
      "execution_count": null,
      "metadata": {
        "id": "xJy_OOjTzvYT"
      },
      "outputs": [],
      "source": [
        "### Goal is to extract relevant information out of reports and compile to SQL database"
      ]
    },
    {
      "cell_type": "markdown",
      "source": [
        "# Importing modules"
      ],
      "metadata": {
        "id": "aXeq-ZJlz77T"
      }
    },
    {
      "cell_type": "code",
      "source": [
        "!pip install tika"
      ],
      "metadata": {
        "colab": {
          "base_uri": "https://localhost:8080/"
        },
        "id": "1qtIKjefz9XH",
        "outputId": "64740ef8-646a-4faa-808c-c2ba78e1b4ec"
      },
      "execution_count": 1,
      "outputs": [
        {
          "output_type": "stream",
          "name": "stdout",
          "text": [
            "Collecting tika\n",
            "  Downloading tika-2.6.0.tar.gz (27 kB)\n",
            "  Preparing metadata (setup.py) ... \u001b[?25l\u001b[?25hdone\n",
            "Requirement already satisfied: setuptools in /usr/local/lib/python3.10/dist-packages (from tika) (67.7.2)\n",
            "Requirement already satisfied: requests in /usr/local/lib/python3.10/dist-packages (from tika) (2.31.0)\n",
            "Requirement already satisfied: charset-normalizer<4,>=2 in /usr/local/lib/python3.10/dist-packages (from requests->tika) (3.2.0)\n",
            "Requirement already satisfied: idna<4,>=2.5 in /usr/local/lib/python3.10/dist-packages (from requests->tika) (3.4)\n",
            "Requirement already satisfied: urllib3<3,>=1.21.1 in /usr/local/lib/python3.10/dist-packages (from requests->tika) (2.0.4)\n",
            "Requirement already satisfied: certifi>=2017.4.17 in /usr/local/lib/python3.10/dist-packages (from requests->tika) (2023.7.22)\n",
            "Building wheels for collected packages: tika\n",
            "  Building wheel for tika (setup.py) ... \u001b[?25l\u001b[?25hdone\n",
            "  Created wheel for tika: filename=tika-2.6.0-py3-none-any.whl size=32621 sha256=a6d4c604cc7b36951c363d5b1e0af03b4b9c0668081f980e96a1ebd68e2956b5\n",
            "  Stored in directory: /root/.cache/pip/wheels/5f/71/c7/b757709531121b1700cffda5b6b0d4aad095fb507ec84316d0\n",
            "Successfully built tika\n",
            "Installing collected packages: tika\n",
            "Successfully installed tika-2.6.0\n"
          ]
        }
      ]
    },
    {
      "cell_type": "code",
      "source": [
        "from tika import parser\n",
        "import numpy as np\n",
        "import re\n",
        "from datetime import datetime\n",
        "from dateutil.relativedelta import relativedelta"
      ],
      "metadata": {
        "id": "mLJD1h-zz_t1"
      },
      "execution_count": 42,
      "outputs": []
    },
    {
      "cell_type": "markdown",
      "source": [
        "# Code"
      ],
      "metadata": {
        "id": "Rl8CluXC0Rhd"
      }
    },
    {
      "cell_type": "code",
      "source": [
        "# Reading data\n",
        "raw = parser.from_file('Mock01.pdf')"
      ],
      "metadata": {
        "colab": {
          "base_uri": "https://localhost:8080/"
        },
        "id": "JSKnpMjp0U6X",
        "outputId": "04b993b9-809a-4f71-fb47-29ce2856353c"
      },
      "execution_count": 3,
      "outputs": [
        {
          "output_type": "stream",
          "name": "stderr",
          "text": [
            "2023-09-26 18:47:55,516 [MainThread  ] [INFO ]  Retrieving http://search.maven.org/remotecontent?filepath=org/apache/tika/tika-server-standard/2.6.0/tika-server-standard-2.6.0.jar to /tmp/tika-server.jar.\n",
            "INFO:tika.tika:Retrieving http://search.maven.org/remotecontent?filepath=org/apache/tika/tika-server-standard/2.6.0/tika-server-standard-2.6.0.jar to /tmp/tika-server.jar.\n",
            "2023-09-26 18:47:56,138 [MainThread  ] [INFO ]  Retrieving http://search.maven.org/remotecontent?filepath=org/apache/tika/tika-server-standard/2.6.0/tika-server-standard-2.6.0.jar.md5 to /tmp/tika-server.jar.md5.\n",
            "INFO:tika.tika:Retrieving http://search.maven.org/remotecontent?filepath=org/apache/tika/tika-server-standard/2.6.0/tika-server-standard-2.6.0.jar.md5 to /tmp/tika-server.jar.md5.\n",
            "2023-09-26 18:47:56,514 [MainThread  ] [WARNI]  Failed to see startup log message; retrying...\n",
            "WARNING:tika.tika:Failed to see startup log message; retrying...\n"
          ]
        }
      ]
    },
    {
      "cell_type": "code",
      "source": [
        "### Helper functions\n",
        "# Function to reduce list of identical to single element\n",
        "def collapse_list(list_identical_elements):\n",
        "  if all(x == list_identical_elements[0] for x in list_identical_elements):\n",
        "    return list_identical_elements[0]\n",
        "  else:\n",
        "    print(f'Different elements detected: {list_identical_elements}')\n",
        "    return np.nan"
      ],
      "metadata": {
        "id": "GPJZOAcQ8tWN"
      },
      "execution_count": 44,
      "outputs": []
    },
    {
      "cell_type": "code",
      "source": [
        "content = raw['content']\n",
        "extracted_content = {}\n",
        "# ID in format \"Capital_Letter YY.dddddd\"\n",
        "ID_pattern = r'([A-Z]\\d{2}\\.\\d{6})'\n",
        "ID_matches = re.findall(ID_pattern, content)\n",
        "extracted_content['ID'] = ID_matches[0]\n",
        "\n",
        "# Age of lesion with date format dd.mm.yyyy\n",
        "date_pattern = r'\\b\\d{2}\\.\\d{2}\\.\\d{4}\\b'\n",
        "date_matches = re.findall(date_pattern, content)\n",
        "if len(date_matches) == 2:\n",
        "  date_format = \"%d.%m.%Y\"\n",
        "  date1 = datetime.strptime(date_matches[0], date_format)\n",
        "  date2 = datetime.strptime(date_matches[1], date_format)\n",
        "  difference = relativedelta(date2, date1)\n",
        "  extracted_content['age'] = difference.years\n",
        "\n",
        "# T stage\n",
        "T_pattern = r'pT([0-4])'\n",
        "T_matches = re.findall(T_pattern, content)\n",
        "extracted_content['T'] = collapse_list(T_matches)\n",
        "\n",
        "# N stage\n",
        "N_pattern = r'N([0-3])'\n",
        "N_matches = re.findall(N_pattern, content)\n",
        "extracted_content['N'] = collapse_list(N_matches)\n",
        "\n",
        "# N stage\n",
        "M_pattern = r'M([0-2])'\n",
        "M_matches = re.findall(M_pattern, content)\n",
        "extracted_content['M'] = collapse_list(M_matches)\n",
        "\n",
        "# Diagnosis\n",
        "diagnosis_keys = ['Adenokarzinom','Plattenepithel-Karzinom']\n",
        "Dx_matches = []\n",
        "for diagnosis in diagnosis_keys:\n",
        "  if diagnosis in content:\n",
        "    Dx_matches.append(diagnosis)\n",
        "extracted_content['Diagnosis'] = Dx_matches\n",
        "\n",
        "print(extracted_content)"
      ],
      "metadata": {
        "colab": {
          "base_uri": "https://localhost:8080/"
        },
        "id": "7Jqvmyfm0buZ",
        "outputId": "d472f238-1634-4378-bf6c-2ef6ed6d5dee"
      },
      "execution_count": 54,
      "outputs": [
        {
          "output_type": "stream",
          "name": "stdout",
          "text": [
            "{'ID': 'X23.437284', 'age': 63, 'T': '3', 'N': '2', 'M': '0', 'Diagnosis': ['Adenokarzinom']}\n"
          ]
        }
      ]
    },
    {
      "cell_type": "code",
      "source": [],
      "metadata": {
        "id": "Ugapdhk42FHS"
      },
      "execution_count": null,
      "outputs": []
    }
  ]
}